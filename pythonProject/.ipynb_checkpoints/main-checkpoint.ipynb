{
 "cells": [
  {
   "cell_type": "markdown",
   "id": "49d937cd-8a7d-44c0-bdf8-0d182858952f",
   "metadata": {},
   "source": [
    "# Imports"
   ]
  },
  {
   "cell_type": "code",
   "execution_count": 1,
   "id": "d66fc654-557c-453c-a4e0-67b39dd2fc1f",
   "metadata": {},
   "outputs": [],
   "source": [
    "import pandas as pd\n",
    "import matplotlib.pyplot as plt\n",
    "import seaborn as sns"
   ]
  },
  {
   "cell_type": "markdown",
   "id": "3f3961d2-603d-4cb9-9b5d-8769384a1d09",
   "metadata": {},
   "source": [
    "# converting data to readable format and drop missing values"
   ]
  },
  {
   "cell_type": "code",
   "execution_count": 2,
   "id": "481c247e-be4d-464e-bbb3-52ecbf7d19d3",
   "metadata": {},
   "outputs": [],
   "source": [
    "data = pd.read_csv(\"./dane_demograficzne_2024.csv\", skipinitialspace=True)\n",
    "# convert values to float and drop rows with missing values\n",
    "\n",
    "data.replace(['X', '-'], pd.NA, inplace=True)\n",
    "numerical_columns = ['Population', 'Marriages', 'Live Births', 'Deaths', 'Infant Deaths', 'Natural Increase',\n",
    "                     'Internal Migration In', 'Internal Migration Out', 'Internal Migration Balance',\n",
    "                     'Foreign Immigration', 'Foreign Emigration', 'Overall Migration Balance']\n",
    "\n",
    "for column in numerical_columns:\n",
    "    data[column] = pd.to_numeric(data[column], errors='coerce')\n",
    "    data[column] = data[column].astype(float)"
   ]
  },
  {
   "cell_type": "code",
   "execution_count": null,
   "id": "dd80fdbc-f220-459a-bd3a-4ab9349ae612",
   "metadata": {},
   "outputs": [],
   "source": []
  }
 ],
 "metadata": {
  "kernelspec": {
   "display_name": "Python 3 (ipykernel)",
   "language": "python",
   "name": "python3"
  },
  "language_info": {
   "codemirror_mode": {
    "name": "ipython",
    "version": 3
   },
   "file_extension": ".py",
   "mimetype": "text/x-python",
   "name": "python",
   "nbconvert_exporter": "python",
   "pygments_lexer": "ipython3",
   "version": "3.10.6"
  }
 },
 "nbformat": 4,
 "nbformat_minor": 5
}
