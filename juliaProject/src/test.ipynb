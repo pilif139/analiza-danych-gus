{
 "cells": [
  {
   "cell_type": "code",
   "execution_count": 2,
   "metadata": {},
   "outputs": [],
   "source": [
    "using CSV\n",
    "using DataFrames\n",
    "using StatsPlots\n",
    "using Printf"
   ]
  },
  {
   "cell_type": "markdown",
   "metadata": {},
   "source": [
    "Converting data to valid format so we can work with it."
   ]
  },
  {
   "cell_type": "code",
   "execution_count": 3,
   "metadata": {},
   "outputs": [
    {
     "data": {
      "text/plain": [
       "12-element Vector{String}:\n",
       " \"37698294\"\n",
       " \"18214389\"\n",
       " \"19483905\"\n",
       " \"22446618\"\n",
       " \"10608505\"\n",
       " \"11838113\"\n",
       " \"15251676\"\n",
       " \"7605884\"\n",
       " \"7645792\"\n",
       " \"9130204\"\n",
       " \"4474080\"\n",
       " \"4656124\""
      ]
     },
     "metadata": {},
     "output_type": "display_data"
    }
   ],
   "source": [
    "data = CSV.read(\"../../dane_demograficzne_2024.csv\", DataFrame; ignorerepeated=true, delim=',')\n",
    "\n",
    "data.Population = convert(Vector{Union{String, Missing}}, data.Population)\n",
    "\n",
    "data.Population = replace(data.Population, \"X\" => missing)\n",
    "\n",
    "dropmissing!(data, :Population)\n",
    "\n",
    "data.Population = parse.(Float64, data.Population)\n",
    "\n",
    "data.Population = [@sprintf(\"%.0f\", pop) for pop in data.Population]"
   ]
  },
  {
   "cell_type": "code",
   "execution_count": 29,
   "metadata": {},
   "outputs": [
    {
     "data": {
      "text/plain": [
       "\"c:\\\\Users\\\\User\\\\Desktop\\\\programming\\\\AnalizaDanych\\\\juliaProject\\\\src\\\\comparison_deaths_men_women.png\""
      ]
     },
     "metadata": {},
     "output_type": "display_data"
    }
   ],
   "source": [
    "pivot_table = combine(groupby(data, :Category), :Deaths => sum => :TotalDeaths)\n",
    "comparison = filter(row -> row.Category in [\"Men\", \"Women\"], pivot_table)\n",
    "\n",
    "# Plot the comparison using a bar chart\n",
    "bar_plot = @df comparison bar(:Category, :TotalDeaths, legend=false, title=\"Comparison of Deaths between Men and Women\", xlabel=\"Gender\", ylabel=\"Number of Deaths\", size=(1000,800))\n",
    "\n",
    "bar_plot = plot!(bar_plot, yformatter=x->@sprintf(\"%.0f\",x))\n",
    "\n",
    "for i in 1:nrow(comparison)\n",
    "    annotate!(bar_plot, i, comparison.TotalDeaths[i], text(string(comparison.TotalDeaths[i]), :center, 12))\n",
    "end\n",
    "\n",
    "savefig(bar_plot, \"comparison_deaths_men_women.png\")"
   ]
  },
  {
   "cell_type": "code",
   "execution_count": null,
   "metadata": {},
   "outputs": [],
   "source": []
  }
 ],
 "metadata": {
  "kernelspec": {
   "display_name": "Julia 1.11.4",
   "language": "julia",
   "name": "julia-1.11"
  },
  "language_info": {
   "file_extension": ".jl",
   "mimetype": "application/julia",
   "name": "julia",
   "version": "1.11.4"
  }
 },
 "nbformat": 4,
 "nbformat_minor": 2
}
